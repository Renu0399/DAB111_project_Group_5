{
 "cells": [
  {
   "cell_type": "code",
   "execution_count": 1,
   "id": "dbef6fbe",
   "metadata": {},
   "outputs": [],
   "source": [
    "import sqlite3\n",
    "import pandas as pd\n",
    "\n",
    "# Read data from the CSV file into a Pandas DataFrame\n",
    "df = pd.read_csv(r'D:\\St.Clair college\\Intro to Python\\Python_Project\\lung_cancer_data.csv')\n",
    "\n",
    "# Connect to SQLite database (or create it if it doesn't exist)\n",
    "conn = sqlite3.connect('lung_cancer_data.db')\n",
    "\n",
    "# Insert data into SQLite table\n",
    "df.to_sql('lung_cancer_data', conn, if_exists='replace', index=False)\n",
    "\n",
    "# Define the path to the SQLite database\n",
    "db_path = 'lung_cancer_data.db'\n",
    "\n",
    "# Connect to the SQLite database\n",
    "conn = sqlite3.connect(db_path)\n",
    "\n",
    "# Close the database connection\n",
    "conn.close()"
   ]
  },
  {
   "cell_type": "code",
   "execution_count": null,
   "id": "32bf4153",
   "metadata": {},
   "outputs": [],
   "source": [
    "from flask import Flask, render_template\n",
    "import pandas as pd\n",
    "import sqlite3\n",
    "from werkzeug.serving import run_simple\n",
    "\n",
    "app = Flask(__name__)\n",
    "\n",
    "# Database connection\n",
    "def get_db_connection():\n",
    "    conn = sqlite3.connect('lung_cancer_data.db')\n",
    "    conn.row_factory = sqlite3.Row\n",
    "    return conn\n",
    "\n",
    "@app.route('/')\n",
    "def index():\n",
    "    return render_template('index.html')\n",
    "\n",
    "@app.route('/about')\n",
    "def about():\n",
    "    return render_template('about.html')\n",
    "\n",
    "@app.route('/data')\n",
    "def data():\n",
    "    conn = get_db_connection()\n",
    "    df = pd.read_sql_query('SELECT DISTINCT * FROM lung_cancer_data LIMIT 51', conn)\n",
    "    conn.close()\n",
    "\n",
    "    return render_template('data.html', tables = df.to_html(classes='data', header=\"true\", index=False))\n",
    "\n"
   ]
  },
  {
   "cell_type": "code",
   "execution_count": 4,
   "id": "82c2fa92",
   "metadata": {},
   "outputs": [
    {
     "name": "stderr",
     "output_type": "stream",
     "text": [
      "WARNING: This is a development server. Do not use it in a production deployment. Use a production WSGI server instead.\n",
      " * Running on http://localhost:7000\n",
      "Press CTRL+C to quit\n",
      "127.0.0.1 - - [19/Jul/2024 18:31:16] \"GET / HTTP/1.1\" 200 -\n",
      "127.0.0.1 - - [19/Jul/2024 18:31:16] \"GET /favicon.ico HTTP/1.1\" 404 -\n"
     ]
    }
   ],
   "source": [
    "run_simple('localhost',7000,app,use_reloader=False, use_debugger=False)"
   ]
  },
  {
   "cell_type": "code",
   "execution_count": null,
   "id": "e787f70b",
   "metadata": {},
   "outputs": [],
   "source": [
    "\n"
   ]
  },
  {
   "cell_type": "code",
   "execution_count": null,
   "id": "6a351af2",
   "metadata": {},
   "outputs": [],
   "source": []
  }
 ],
 "metadata": {
  "kernelspec": {
   "display_name": "Python 3 (ipykernel)",
   "language": "python",
   "name": "python3"
  },
  "language_info": {
   "codemirror_mode": {
    "name": "ipython",
    "version": 3
   },
   "file_extension": ".py",
   "mimetype": "text/x-python",
   "name": "python",
   "nbconvert_exporter": "python",
   "pygments_lexer": "ipython3",
   "version": "3.12.1"
  }
 },
 "nbformat": 4,
 "nbformat_minor": 5
}
